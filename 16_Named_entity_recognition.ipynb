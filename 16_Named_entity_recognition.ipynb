{
  "nbformat": 4,
  "nbformat_minor": 0,
  "metadata": {
    "colab": {
      "provenance": [],
      "name": "16.Named entity recognition.ipynb",
      "authorship_tag": "ABX9TyPu92v3n3NhjMRFa1n08FLk",
      "include_colab_link": true
    },
    "kernelspec": {
      "name": "python3",
      "display_name": "Python 3"
    },
    "language_info": {
      "name": "python"
    }
  },
  "cells": [
    {
      "cell_type": "markdown",
      "metadata": {
        "id": "view-in-github",
        "colab_type": "text"
      },
      "source": [
        "<a href=\"https://colab.research.google.com/github/Varshitha5072/nlp/blob/main/16_Named_entity_recognition.ipynb\" target=\"_parent\"><img src=\"https://colab.research.google.com/assets/colab-badge.svg\" alt=\"Open In Colab\"/></a>"
      ]
    },
    {
      "cell_type": "code",
      "execution_count": 7,
      "metadata": {
        "colab": {
          "base_uri": "https://localhost:8080/",
          "height": 141
        },
        "id": "XZmTs3zx8hwe",
        "outputId": "72387527-3aaa-4334-f3c9-89a7c7877122"
      },
      "outputs": [
        {
          "output_type": "error",
          "ename": "SyntaxError",
          "evalue": "ignored",
          "traceback": [
            "\u001b[0;36m  File \u001b[0;32m\"<ipython-input-7-a71507f049a4>\"\u001b[0;36m, line \u001b[0;32m20\u001b[0m\n\u001b[0;31m    print(f\"Entity: {ent.text}, Label: {ent.label_}\u001b[0m\n\u001b[0m          ^\u001b[0m\n\u001b[0;31mSyntaxError\u001b[0m\u001b[0;31m:\u001b[0m unterminated string literal (detected at line 20)\n"
          ]
        }
      ],
      "source": [
        "import spacy\n",
        "\n",
        "# Load the English model \"en_core_web_sm\"\n",
        "nlp = spacy.load(\"en_core_web_sm\")\n",
        "\n",
        "# Given sentences\n",
        "sentences = [\n",
        "    \"Apple Inc. is headquartered in Cupertino, California, and its CEO, Tim Cook, often delivers keynote speeches.\",\n",
        "    \"The Eiffel Tower in Paris, France, is a popular tourist attraction.\"\n",
        "]\n",
        "\n",
        "# Perform Named Entity Recognition (NER) for each sentence\n",
        "for sentence in sentences:\n",
        "    # Process the text using SpaCy\n",
        "    doc = nlp(sentence)\n",
        "\n",
        "    # Print named entities and their labels\n",
        "    print(\"\\nOriginal Sentence:\", sentence)\n",
        "    for ent in doc.ents:\n",
        "        print(f\"Entity: {ent.text}, Label: {ent.label_}"
      ]
    }
  ]
}