{
  "nbformat": 4,
  "nbformat_minor": 0,
  "metadata": {
    "colab": {
      "provenance": [],
      "name": "14.extractive text summarization.ipynb",
      "authorship_tag": "ABX9TyP2/s+i+SdInJMqdzDzzFKu",
      "include_colab_link": true
    },
    "kernelspec": {
      "name": "python3",
      "display_name": "Python 3"
    },
    "language_info": {
      "name": "python"
    }
  },
  "cells": [
    {
      "cell_type": "markdown",
      "metadata": {
        "id": "view-in-github",
        "colab_type": "text"
      },
      "source": [
        "<a href=\"https://colab.research.google.com/github/Varshitha5072/nlp/blob/main/14_extractive_text_summarization.ipynb\" target=\"_parent\"><img src=\"https://colab.research.google.com/assets/colab-badge.svg\" alt=\"Open In Colab\"/></a>"
      ]
    },
    {
      "cell_type": "code",
      "execution_count": 5,
      "metadata": {
        "colab": {
          "base_uri": "https://localhost:8080/"
        },
        "id": "XZmTs3zx8hwe",
        "outputId": "f0eacd6a-f655-4dee-c079-0ca9e18a59ac"
      },
      "outputs": [
        {
          "output_type": "stream",
          "name": "stderr",
          "text": [
            "[nltk_data] Downloading package punkt to /root/nltk_data...\n",
            "[nltk_data]   Unzipping tokenizers/punkt.zip.\n",
            "[nltk_data] Downloading package stopwords to /root/nltk_data...\n",
            "[nltk_data]   Unzipping corpora/stopwords.zip.\n"
          ]
        }
      ],
      "source": [
        "import nltk\n",
        "from nltk.tokenize import sent_tokenize\n",
        "from nltk.corpus import stopwords\n",
        "from nltk.probability import FreqDist\n",
        "from nltk.tokenize.treebank import TreebankWordDetokenizer\n",
        "\n",
        "nltk.download('punkt')\n",
        "nltk.download('stopwords')\n",
        "\n",
        "def extractive_summarization(document, num_sentences=3):\n",
        "    # Step 1: Sentence Tokenization\n",
        "    sentences = sent_tokenize(document)\n",
        "\n",
        "    # Step 2: Text Preprocessing\n",
        "    stop_words = set(stopwords.words('english'))\n",
        "    words = [word.lower() for sentence in sentences for word in nltk.word_tokenize(sentence) if word.isalnum() and word.lower() not in stop_words]\n",
        "\n",
        "    # Step 3: Calculate Sentence Scores\n",
        "    word_freq = FreqDist(words)\n",
        "    sentence_scores = {sentence: sum(word_freq[word] for word in nltk.word_tokenize(sentence) if word.isalnum() and word.lower() not in stop_words) for sentence in sentences}\n",
        "\n",
        "    # Step 4: Select Top Sentences\n",
        "    top_sentences = sorted(sentences, key=lambda sentence: sentence_scores[sentence], reverse=True)[:num_sentences]\n",
        "\n",
        "    # Detokenize to form the final summary\n",
        "    summary = TreebankWordDetokenizer().detokenize(top_sentences)\n",
        "\n",
        "    return summary\n"
      ]
    }
  ]
}