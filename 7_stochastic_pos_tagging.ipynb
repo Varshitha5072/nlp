{
  "nbformat": 4,
  "nbformat_minor": 0,
  "metadata": {
    "colab": {
      "provenance": [],
      "authorship_tag": "ABX9TyNshQk0f2y10glNiHem2Q6K",
      "include_colab_link": true
    },
    "kernelspec": {
      "name": "python3",
      "display_name": "Python 3"
    },
    "language_info": {
      "name": "python"
    }
  },
  "cells": [
    {
      "cell_type": "markdown",
      "metadata": {
        "id": "view-in-github",
        "colab_type": "text"
      },
      "source": [
        "<a href=\"https://colab.research.google.com/github/Varshitha5072/nlp/blob/main/7_stochastic_pos_tagging.ipynb\" target=\"_parent\"><img src=\"https://colab.research.google.com/assets/colab-badge.svg\" alt=\"Open In Colab\"/></a>"
      ]
    },
    {
      "cell_type": "code",
      "execution_count": 7,
      "metadata": {
        "colab": {
          "base_uri": "https://localhost:8080/"
        },
        "id": "NbldBcJ5FICj",
        "outputId": "4cb844bc-09c4-4feb-d2c6-55855cbb8771"
      },
      "outputs": [
        {
          "output_type": "stream",
          "name": "stderr",
          "text": [
            "[nltk_data] Downloading package punkt to /root/nltk_data...\n",
            "[nltk_data]   Package punkt is already up-to-date!\n",
            "[nltk_data] Downloading package brown to /root/nltk_data...\n",
            "[nltk_data]   Unzipping corpora/brown.zip.\n",
            "[nltk_data] Downloading package universal_tagset to /root/nltk_data...\n",
            "[nltk_data]   Unzipping taggers/universal_tagset.zip.\n"
          ]
        },
        {
          "output_type": "stream",
          "name": "stdout",
          "text": [
            "Training stopped manually -- 1 rules found\n",
            "Original Sentence: The red car stopped at the traffic light\n",
            "Stochastic POS Tagging: [('The', 'DET'), ('red', 'ADJ'), ('car', 'NOUN'), ('stopped', 'VERB'), ('at', 'ADP'), ('the', 'DET'), ('traffic', 'NOUN'), ('light', 'NOUN')]\n",
            "\n",
            "Original Sentence: She quickly ran to catch the bus\n",
            "Stochastic POS Tagging: [('She', 'PRON'), ('quickly', 'ADV'), ('ran', 'VERB'), ('to', 'PRT'), ('catch', 'VERB'), ('the', 'DET'), ('bus', 'NOUN')]\n",
            "\n"
          ]
        }
      ],
      "source": [
        "import nltk\n",
        "from nltk.tokenize import word_tokenize\n",
        "from nltk.tag import BrillTaggerTrainer\n",
        "from nltk.tag.brill import BrillTagger\n",
        "\n",
        "nltk.download('punkt')\n",
        "nltk.download('brown')\n",
        "nltk.download('universal_tagset')\n",
        "\n",
        "def train_brill_tagger(tagged_corpus):\n",
        "    baseline_tagger = nltk.UnigramTagger(tagged_corpus)\n",
        "    templates = nltk.tag.brill.fntbl37()\n",
        "    trainer = BrillTaggerTrainer(baseline_tagger, templates)\n",
        "    brill_tagger = trainer.train(tagged_corpus, max_rules=10)\n",
        "\n",
        "    return brill_tagger\n",
        "\n",
        "def stochastic_pos_tagging(text, tagger):\n",
        "    words = word_tokenize(text)\n",
        "    tagged_words = tagger.tag(words)\n",
        "    return tagged_words\n",
        "\n",
        "# Example usage\n",
        "sentences = [\n",
        "    \"The red car stopped at the traffic light\",\n",
        "    \"She quickly ran to catch the bus\"\n",
        "]\n",
        "\n",
        "# Training the BrillTagger on the Brown corpus (you can use a larger corpus for better performance)\n",
        "tagged_corpus = nltk.corpus.brown.tagged_sents(tagset='universal')\n",
        "brill_tagger = train_brill_tagger(tagged_corpus)\n",
        "\n",
        "# Stochastic part-of-speech tagging for each sentence\n",
        "for sentence in sentences:\n",
        "    tagged_sentence = stochastic_pos_tagging(sentence, brill_tagger)\n",
        "    print(f\"Original Sentence: {sentence}\")\n",
        "    print(\"Stochastic POS Tagging:\", tagged_sentence)\n",
        "    print()\n"
      ]
    },
    {
      "cell_type": "code",
      "source": [],
      "metadata": {
        "id": "TPDKmZ4OHTLj"
      },
      "execution_count": null,
      "outputs": []
    }
  ]
}