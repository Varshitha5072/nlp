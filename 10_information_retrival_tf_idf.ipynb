{
  "nbformat": 4,
  "nbformat_minor": 0,
  "metadata": {
    "colab": {
      "provenance": [],
      "name": "10.information retrival tf idf.ipynb",
      "authorship_tag": "ABX9TyMVIfBtG3o4eTl682huLOj9",
      "include_colab_link": true
    },
    "kernelspec": {
      "name": "python3",
      "display_name": "Python 3"
    },
    "language_info": {
      "name": "python"
    }
  },
  "cells": [
    {
      "cell_type": "markdown",
      "metadata": {
        "id": "view-in-github",
        "colab_type": "text"
      },
      "source": [
        "<a href=\"https://colab.research.google.com/github/Varshitha5072/nlp/blob/main/10_information_retrival_tf_idf.ipynb\" target=\"_parent\"><img src=\"https://colab.research.google.com/assets/colab-badge.svg\" alt=\"Open In Colab\"/></a>"
      ]
    },
    {
      "cell_type": "code",
      "execution_count": 1,
      "metadata": {
        "colab": {
          "base_uri": "https://localhost:8080/"
        },
        "id": "XZmTs3zx8hwe",
        "outputId": "fd451fb4-0ef4-48cf-e6a0-17c34be4b888"
      },
      "outputs": [
        {
          "output_type": "stream",
          "name": "stdout",
          "text": [
            "Cosine Similarity: 0.2149\n",
            "Document: Natural language processing (NLP) is a field of study in artificial intelligence.\n",
            "\n",
            "Cosine Similarity: 0.0621\n",
            "Document: The development of NLP tools and libraries has made text analysis easier.\n",
            "\n",
            "Cosine Similarity: 0.0593\n",
            "Document: NLP techniques are used in various applications like machine translation and sentiment analysis.\n",
            "\n"
          ]
        }
      ],
      "source": [
        "from sklearn.feature_extraction.text import TfidfVectorizer\n",
        "from sklearn.metrics.pairwise import cosine_similarity\n",
        "\n",
        "# Sample Documents\n",
        "documents = [\n",
        "    \"Natural language processing (NLP) is a field of study in artificial intelligence.\",\n",
        "    \"NLP techniques are used in various applications like machine translation and sentiment analysis.\",\n",
        "    \"The development of NLP tools and libraries has made text analysis easier.\"\n",
        "]\n",
        "\n",
        "# User Query\n",
        "query = \"What is NLP?\"\n",
        "\n",
        "# Combine documents and query for TF-IDF vectorization\n",
        "corpus = documents + [query]\n",
        "\n",
        "# TF-IDF Vectorization\n",
        "vectorizer = TfidfVectorizer()\n",
        "tfidf_matrix = vectorizer.fit_transform(corpus)\n",
        "\n",
        "# Calculate cosine similarity between the query and documents\n",
        "cosine_similarities = cosine_similarity(tfidf_matrix[-1], tfidf_matrix[:-1])\n",
        "\n",
        "# Sort documents based on cosine similarity\n",
        "results = [(similarity, documents[i]) for i, similarity in enumerate(cosine_similarities[0])]\n",
        "\n",
        "# Display the results\n",
        "results.sort(reverse=True)\n",
        "for similarity, document in results:\n",
        "    print(f\"Cosine Similarity: {similarity:.4f}\\nDocument: {document}\\n\")\n"
      ]
    }
  ]
}