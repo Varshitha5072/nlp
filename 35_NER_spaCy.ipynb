{
  "nbformat": 4,
  "nbformat_minor": 0,
  "metadata": {
    "colab": {
      "provenance": [],
      "authorship_tag": "ABX9TyMqiNgFZ3A3xMF6wjAFryE+",
      "include_colab_link": true
    },
    "kernelspec": {
      "name": "python3",
      "display_name": "Python 3"
    },
    "language_info": {
      "name": "python"
    }
  },
  "cells": [
    {
      "cell_type": "markdown",
      "metadata": {
        "id": "view-in-github",
        "colab_type": "text"
      },
      "source": [
        "<a href=\"https://colab.research.google.com/github/Varshitha5072/nlp/blob/main/35_NER_spaCy.ipynb\" target=\"_parent\"><img src=\"https://colab.research.google.com/assets/colab-badge.svg\" alt=\"Open In Colab\"/></a>"
      ]
    },
    {
      "cell_type": "code",
      "execution_count": 4,
      "metadata": {
        "colab": {
          "base_uri": "https://localhost:8080/"
        },
        "id": "-_VNAiR4gT7g",
        "outputId": "ac7a37f0-4bd6-4f99-e641-3a9f399320bc"
      },
      "outputs": [
        {
          "output_type": "stream",
          "name": "stdout",
          "text": [
            "Named Entities:\n",
            "Microsoft Corporation - ORG\n",
            "Redmond - GPE\n",
            "Washington - GPE\n"
          ]
        }
      ],
      "source": [
        "import spacy\n",
        "\n",
        "def perform_ner(text):\n",
        "    # Load the spaCy model for English\n",
        "    nlp = spacy.load(\"en_core_web_sm\")\n",
        "\n",
        "    # Process the text with spaCy\n",
        "    doc = nlp(text)\n",
        "\n",
        "    # Extract named entities\n",
        "    named_entities = [(ent.text, ent.label_) for ent in doc.ents]\n",
        "\n",
        "    return named_entities\n",
        "\n",
        "# Example text\n",
        "input_text = \"Microsoft Corporation is headquartered in Redmond, Washington.\"\n",
        "\n",
        "# Perform Named Entity Recognition\n",
        "ner_results = perform_ner(input_text)\n",
        "\n",
        "# Print the results\n",
        "print(\"Named Entities:\")\n",
        "for entity, label in ner_results:\n",
        "    print(f\"{entity} - {label}\")\n",
        "\n",
        ""
      ]
    }
  ]
}