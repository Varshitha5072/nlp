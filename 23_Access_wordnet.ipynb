{
  "nbformat": 4,
  "nbformat_minor": 0,
  "metadata": {
    "colab": {
      "provenance": [],
      "authorship_tag": "ABX9TyPVJ9cVpIEnjtr63NeFIuin",
      "include_colab_link": true
    },
    "kernelspec": {
      "name": "python3",
      "display_name": "Python 3"
    },
    "language_info": {
      "name": "python"
    }
  },
  "cells": [
    {
      "cell_type": "markdown",
      "metadata": {
        "id": "view-in-github",
        "colab_type": "text"
      },
      "source": [
        "<a href=\"https://colab.research.google.com/github/Varshitha5072/nlp/blob/main/23_Access_wordnet.ipynb\" target=\"_parent\"><img src=\"https://colab.research.google.com/assets/colab-badge.svg\" alt=\"Open In Colab\"/></a>"
      ]
    },
    {
      "cell_type": "code",
      "execution_count": 12,
      "metadata": {
        "colab": {
          "base_uri": "https://localhost:8080/",
          "height": 141
        },
        "id": "PoB6IoqAGfzv",
        "outputId": "d783614d-aa29-4f6f-9e5b-15f822f888d5"
      },
      "outputs": [
        {
          "output_type": "error",
          "ename": "SyntaxError",
          "evalue": "ignored",
          "traceback": [
            "\u001b[0;36m  File \u001b[0;32m\"<ipython-input-12-cad8635c7662>\"\u001b[0;36m, line \u001b[0;32m5\u001b[0m\n\u001b[0;31m    [nltk_data] Downloading package wordnet to /root/nltk_data...\u001b[0m\n\u001b[0m                ^\u001b[0m\n\u001b[0;31mSyntaxError\u001b[0m\u001b[0;31m:\u001b[0m invalid syntax\n"
          ]
        }
      ],
      "source": [
        "\n",
        "\n",
        "\n",
        "from nltk.corpus import wordnet\n",
        "\n",
        "def explore_word_meanings(sentence):\n",
        "    words = sentence.split()\n",
        "    for word in words:\n",
        "        synsets = wordnet.synsets(word)\n",
        "        if synsets:\n",
        "            print(f\"\\nWord: {word}\")\n",
        "            print(\"Definitions:\")\n",
        "            for synset in synsets:\n",
        "                print(f\"- {synset.definition()}\")\n",
        "            print(\"Synonyms:\")\n",
        "            synonyms = set()\n",
        "            for synset in synsets:\n",
        "                synonyms.update(synset.lemma_names())\n",
        "            print(f\"- {', '.join(synonyms)}\")\n",
        "\n",
        "# Given sentences\n",
        "sentences = [\n",
        "    \"The cat sat on the mat.\",\n",
        "    \"The dog barked loudly.\",\n",
        "    \"She played the piano beautifully.\",\n",
        "]\n",
        "\n",
        "# Explore word meanings for each sentence\n",
        "for i, sentence in enumerate(sentences):\n",
        "    print(f\"\\nSentence {i + 1}: {sentence}\")\n",
        "    explore_word_meanings(sentence)"
      ]
    }
  ]
}