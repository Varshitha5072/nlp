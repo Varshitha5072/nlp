{
  "nbformat": 4,
  "nbformat_minor": 0,
  "metadata": {
    "colab": {
      "provenance": [],
      "name": "13. sentiment analysis.ipynb",
      "authorship_tag": "ABX9TyOHgH9oCTjXXJ/UVometx5z",
      "include_colab_link": true
    },
    "kernelspec": {
      "name": "python3",
      "display_name": "Python 3"
    },
    "language_info": {
      "name": "python"
    }
  },
  "cells": [
    {
      "cell_type": "markdown",
      "metadata": {
        "id": "view-in-github",
        "colab_type": "text"
      },
      "source": [
        "<a href=\"https://colab.research.google.com/github/Varshitha5072/nlp/blob/main/13_sentiment_analysis.ipynb\" target=\"_parent\"><img src=\"https://colab.research.google.com/assets/colab-badge.svg\" alt=\"Open In Colab\"/></a>"
      ]
    },
    {
      "cell_type": "code",
      "execution_count": 4,
      "metadata": {
        "colab": {
          "base_uri": "https://localhost:8080/"
        },
        "id": "XZmTs3zx8hwe",
        "outputId": "81ca0eea-a641-43d0-d7e4-c677b665ae61"
      },
      "outputs": [
        {
          "output_type": "stream",
          "name": "stdout",
          "text": [
            "Sentence 1: Positive\n",
            "Sentence 2: Negative\n"
          ]
        }
      ],
      "source": [
        "from textblob import TextBlob\n",
        "\n",
        "def analyze_sentiment(text):\n",
        "    # Create a TextBlob object\n",
        "    blob = TextBlob(text)\n",
        "\n",
        "    # Get the sentiment polarity\n",
        "    polarity = blob.sentiment.polarity\n",
        "\n",
        "    # Classify the sentiment based on polarity\n",
        "    if polarity > 0:\n",
        "        return \"Positive\"\n",
        "    elif polarity < 0:\n",
        "        return \"Negative\"\n",
        "    else:\n",
        "        return \"Neutral\"\n",
        "\n",
        "# Example sentences\n",
        "sentence1 = \"I love this product! It's amazing.\"\n",
        "sentence2 = \"The weather is terrible today.\"\n",
        "\n",
        "# Analyze sentiment for each sentence\n",
        "result1 = analyze_sentiment(sentence1)\n",
        "result2 = analyze_sentiment(sentence2)\n",
        "\n",
        "# Print results\n",
        "print(f\"Sentence 1: {result1}\")\n",
        "print(f\"Sentence 2: {result2}\")\n",
        "\n"
      ]
    }
  ]
}