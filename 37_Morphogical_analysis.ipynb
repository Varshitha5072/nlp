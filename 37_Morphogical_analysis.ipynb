{
  "nbformat": 4,
  "nbformat_minor": 0,
  "metadata": {
    "colab": {
      "provenance": [],
      "authorship_tag": "ABX9TyPpDUKbhbEZy6jO6AWi/xBg",
      "include_colab_link": true
    },
    "kernelspec": {
      "name": "python3",
      "display_name": "Python 3"
    },
    "language_info": {
      "name": "python"
    }
  },
  "cells": [
    {
      "cell_type": "markdown",
      "metadata": {
        "id": "view-in-github",
        "colab_type": "text"
      },
      "source": [
        "<a href=\"https://colab.research.google.com/github/Varshitha5072/nlp/blob/main/37_Morphogical_analysis.ipynb\" target=\"_parent\"><img src=\"https://colab.research.google.com/assets/colab-badge.svg\" alt=\"Open In Colab\"/></a>"
      ]
    },
    {
      "cell_type": "code",
      "execution_count": 6,
      "metadata": {
        "colab": {
          "base_uri": "https://localhost:8080/"
        },
        "id": "-_VNAiR4gT7g",
        "outputId": "b50e4123-7258-472a-cf00-88244fc6e905"
      },
      "outputs": [
        {
          "output_type": "stream",
          "name": "stderr",
          "text": [
            "[nltk_data] Downloading package punkt to /root/nltk_data...\n",
            "[nltk_data]   Unzipping tokenizers/punkt.zip.\n",
            "[nltk_data] Downloading package wordnet to /root/nltk_data...\n"
          ]
        },
        {
          "output_type": "stream",
          "name": "stdout",
          "text": [
            "Original Sentence 1: The quick brown foxes jumped over the lazy dogs.\n",
            "Lemmatized Sentence 1: The quick brown fox jumped over the lazy dog .\n",
            "\n",
            "Original Sentence 2: I am running in the park with my friends.\n",
            "Lemmatized Sentence 2: I am running in the park with my friend .\n"
          ]
        }
      ],
      "source": [
        "import nltk\n",
        "from nltk.tokenize import word_tokenize\n",
        "from nltk.stem import WordNetLemmatizer\n",
        "\n",
        "nltk.download('punkt')\n",
        "nltk.download('wordnet')\n",
        "\n",
        "def perform_lemmatization(sentence):\n",
        "    tokens = word_tokenize(sentence)\n",
        "    lemmatizer = WordNetLemmatizer()\n",
        "    lemmatized_words = [lemmatizer.lemmatize(word) for word in tokens]\n",
        "    return ' '.join(lemmatized_words)\n",
        "\n",
        "# Sample sentences\n",
        "sentence1 = \"The quick brown foxes jumped over the lazy dogs.\"\n",
        "sentence2 = \"I am running in the park with my friends.\"\n",
        "\n",
        "# Perform lemmatization on each sentence\n",
        "lemmatized_sentence1 = perform_lemmatization(sentence1)\n",
        "lemmatized_sentence2 = perform_lemmatization(sentence2)\n",
        "\n",
        "# Display the results\n",
        "print(\"Original Sentence 1:\", sentence1)\n",
        "print(\"Lemmatized Sentence 1:\", lemmatized_sentence1)\n",
        "print(\"\\nOriginal Sentence 2:\", sentence2)\n",
        "print(\"Lemmatized Sentence 2:\", lemmatized_sentence2)\n"
      ]
    }
  ]
}