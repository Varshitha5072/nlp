{
  "nbformat": 4,
  "nbformat_minor": 0,
  "metadata": {
    "colab": {
      "provenance": [],
      "name": "12.entity recognition.ipynb",
      "authorship_tag": "ABX9TyPM3cSrjSGt1j50d9BcJu04",
      "include_colab_link": true
    },
    "kernelspec": {
      "name": "python3",
      "display_name": "Python 3"
    },
    "language_info": {
      "name": "python"
    }
  },
  "cells": [
    {
      "cell_type": "markdown",
      "metadata": {
        "id": "view-in-github",
        "colab_type": "text"
      },
      "source": [
        "<a href=\"https://colab.research.google.com/github/Varshitha5072/nlp/blob/main/12_entity_recognition.ipynb\" target=\"_parent\"><img src=\"https://colab.research.google.com/assets/colab-badge.svg\" alt=\"Open In Colab\"/></a>"
      ]
    },
    {
      "cell_type": "code",
      "execution_count": 3,
      "metadata": {
        "colab": {
          "base_uri": "https://localhost:8080/"
        },
        "id": "XZmTs3zx8hwe",
        "outputId": "02d921ea-12fc-4421-88a3-14d330fac59a"
      },
      "outputs": [
        {
          "output_type": "stream",
          "name": "stdout",
          "text": [
            "Named Entities:\n",
            "Barack Obama: PERSON\n",
            "44th: ORDINAL\n",
            "the United States: GPE\n",
            "Honolulu: GPE\n",
            "Hawaii: GPE\n"
          ]
        }
      ],
      "source": [
        "\n",
        "\n",
        "import spacy\n",
        "\n",
        "# Load the SpaCy English NLP model\n",
        "nlp = spacy.load(\"en_core_web_sm\")\n",
        "\n",
        "# Given sentence\n",
        "sentence = \"Barack Obama was the 44th President of the United States, and he was born in Honolulu, Hawaii.\"\n",
        "\n",
        "# Process the text with SpaCy\n",
        "doc = nlp(sentence)\n",
        "\n",
        "# Extract and print named entities\n",
        "print(\"Named Entities:\")\n",
        "for ent in doc.ents:\n",
        "    print(f\"{ent.text}: {ent.label_}\")\n"
      ]
    }
  ]
}