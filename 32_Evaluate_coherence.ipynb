{
  "nbformat": 4,
  "nbformat_minor": 0,
  "metadata": {
    "colab": {
      "provenance": [],
      "authorship_tag": "ABX9TyNYOUzbrq+O2dTYcDAlpyCz",
      "include_colab_link": true
    },
    "kernelspec": {
      "name": "python3",
      "display_name": "Python 3"
    },
    "language_info": {
      "name": "python"
    }
  },
  "cells": [
    {
      "cell_type": "markdown",
      "metadata": {
        "id": "view-in-github",
        "colab_type": "text"
      },
      "source": [
        "<a href=\"https://colab.research.google.com/github/Varshitha5072/nlp/blob/main/32_Evaluate_coherence.ipynb\" target=\"_parent\"><img src=\"https://colab.research.google.com/assets/colab-badge.svg\" alt=\"Open In Colab\"/></a>"
      ]
    },
    {
      "cell_type": "code",
      "execution_count": 21,
      "metadata": {
        "colab": {
          "base_uri": "https://localhost:8080/",
          "height": 141
        },
        "id": "PoB6IoqAGfzv",
        "outputId": "d23e08d6-5869-417a-984b-e64297bc80c5"
      },
      "outputs": [
        {
          "output_type": "error",
          "ename": "SyntaxError",
          "evalue": "ignored",
          "traceback": [
            "\u001b[0;36m  File \u001b[0;32m\"<ipython-input-21-21121e2f8db7>\"\u001b[0;36m, line \u001b[0;32m24\u001b[0m\n\u001b[0;31m    print(f\"The coherence score of the text is: {coherence}\"\u001b[0m\n\u001b[0m                                                            ^\u001b[0m\n\u001b[0;31mSyntaxError\u001b[0m\u001b[0;31m:\u001b[0m incomplete input\n"
          ]
        }
      ],
      "source": [
        "import re\n",
        "\n",
        "# Sample text\n",
        "sample_text = \"Once upon a time, there was a young boy named Peter.\"\n",
        "\n",
        "# Function to check coherence\n",
        "def check_coherence(text):\n",
        "    sentences = re.split(r'(?<=[.!?]) +', text)\n",
        "    coherence_score = 0\n",
        "\n",
        "    # Simple coherence check based on sentence structure\n",
        "    for sentence in sentences:\n",
        "        # Check if sentence starts with an uppercase letter and ends with punctuation\n",
        "        if sentence[0].isupper() and sentence[-1] in ['.', '!', '?']:\n",
        "            coherence_score += 1\n",
        "\n",
        "    # Normalize coherence score\n",
        "    normalized_score = coherence_score / max(len(sentences), 1)\n",
        "\n",
        "    return normalized_score\n",
        "\n",
        "# Check coherence of the sample text\n",
        "coherence = check_coherence(sample_text)\n",
        "print(f\"The coherence score of the text is: {coherence}\""
      ]
    }
  ]
}