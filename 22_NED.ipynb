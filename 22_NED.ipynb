{
  "nbformat": 4,
  "nbformat_minor": 0,
  "metadata": {
    "colab": {
      "provenance": [],
      "authorship_tag": "ABX9TyOPxFbjEqARQ9xRp88mer3t",
      "include_colab_link": true
    },
    "kernelspec": {
      "name": "python3",
      "display_name": "Python 3"
    },
    "language_info": {
      "name": "python"
    }
  },
  "cells": [
    {
      "cell_type": "markdown",
      "metadata": {
        "id": "view-in-github",
        "colab_type": "text"
      },
      "source": [
        "<a href=\"https://colab.research.google.com/github/Varshitha5072/nlp/blob/main/22_NED.ipynb\" target=\"_parent\"><img src=\"https://colab.research.google.com/assets/colab-badge.svg\" alt=\"Open In Colab\"/></a>"
      ]
    },
    {
      "cell_type": "code",
      "execution_count": 10,
      "metadata": {
        "colab": {
          "base_uri": "https://localhost:8080/",
          "height": 384
        },
        "id": "PoB6IoqAGfzv",
        "outputId": "3ea7e568-ab54-4b0d-ba0e-b366374e32be"
      },
      "outputs": [
        {
          "output_type": "error",
          "ename": "ModuleNotFoundError",
          "evalue": "ignored",
          "traceback": [
            "\u001b[0;31m---------------------------------------------------------------------------\u001b[0m",
            "\u001b[0;31mModuleNotFoundError\u001b[0m                       Traceback (most recent call last)",
            "\u001b[0;32m<ipython-input-10-3c8a596f8990>\u001b[0m in \u001b[0;36m<cell line: 1>\u001b[0;34m()\u001b[0m\n\u001b[0;32m----> 1\u001b[0;31m \u001b[0;32mimport\u001b[0m \u001b[0mwikipediaapi\u001b[0m\u001b[0;34m\u001b[0m\u001b[0;34m\u001b[0m\u001b[0m\n\u001b[0m\u001b[1;32m      2\u001b[0m \u001b[0;32mimport\u001b[0m \u001b[0mrequests\u001b[0m\u001b[0;34m\u001b[0m\u001b[0;34m\u001b[0m\u001b[0m\n\u001b[1;32m      3\u001b[0m \u001b[0;34m\u001b[0m\u001b[0m\n\u001b[1;32m      4\u001b[0m \u001b[0;31m# Input sentences\u001b[0m\u001b[0;34m\u001b[0m\u001b[0;34m\u001b[0m\u001b[0m\n\u001b[1;32m      5\u001b[0m sentences = [\n",
            "\u001b[0;31mModuleNotFoundError\u001b[0m: No module named 'wikipediaapi'",
            "",
            "\u001b[0;31m---------------------------------------------------------------------------\u001b[0;32m\nNOTE: If your import is failing due to a missing package, you can\nmanually install dependencies using either !pip or !apt.\n\nTo view examples of installing some common dependencies, click the\n\"Open Examples\" button below.\n\u001b[0;31m---------------------------------------------------------------------------\u001b[0m\n"
          ],
          "errorDetails": {
            "actions": [
              {
                "action": "open_url",
                "actionText": "Open Examples",
                "url": "/notebooks/snippets/importing_libraries.ipynb"
              }
            ]
          }
        }
      ],
      "source": [
        "\n",
        "import wikipediaapi\n",
        "import requests\n",
        "\n",
        "# Input sentences\n",
        "sentences = [\n",
        "    \"Apple is a leading tech company.\",\n",
        "    \"I love apples as a fruit.\",\n",
        "    \"Python is a popular programming language.\",\n",
        "    \"The python is a non-venomous snake.\"\n",
        "]\n",
        "\n",
        "# Set a custom user-agent for accessing Wikipedia\n",
        "headers = {\n",
        "    'User-Agent': 'My_User_Agent/1.0 (Your_Name_or_Application_Name)'\n",
        "}\n",
        "\n",
        "# Initialize Wikipedia API with custom headers\n",
        "wiki_wiki = wikipediaapi.Wikipedia('en', headers=headers)\n",
        "\n",
        "# Function to perform named entity disambiguation\n",
        "def disambiguate_entities(sentences):\n",
        "    for sentence in sentences:\n",
        "        words = sentence.split()\n",
        "        for word in words:\n",
        "            # Check if the word is a Wikipedia page title\n",
        "            page = wiki_wiki.page(word)\n",
        "            if page.exists():\n",
        "                print(f\"Entity Mention: {word}\")\n",
        "                print(f\"Corresponding Wikipedia Entity: {page.fullurl}\")\n",
        "                print(f\"Summary: {page.summary}\")\n",
        "                print(\"\")\n",
        "\n",
        "# Perform named entity disambiguation\n",
        "disambiguate_entities(sentences)"
      ]
    }
  ]
}